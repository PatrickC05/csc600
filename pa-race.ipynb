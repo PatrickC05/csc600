{
 "cells": [
  {
   "cell_type": "code",
   "execution_count": 16,
   "metadata": {},
   "outputs": [],
   "source": [
    "import matplotlib.pyplot as plt\n",
    "from gerrychain import (GeographicPartition, Partition, Graph, MarkovChain,\n",
    "                        proposals, updaters, constraints, accept, Election)\n",
    "from gerrychain.metrics import polsby_popper\n",
    "from gerrychain.proposals import recom\n",
    "from functools import partial\n",
    "import pandas"
   ]
  },
  {
   "attachments": {},
   "cell_type": "markdown",
   "metadata": {},
   "source": [
    "# Loading in the graph\n",
    "The JSON files have the graph already built. Each node represents a precinct and each edge represents a border between two precincts, only drawn between neighbors. Nodes also contain information about a precinct, such as the total population and demographic information."
   ]
  },
  {
   "cell_type": "code",
   "execution_count": 17,
   "metadata": {},
   "outputs": [],
   "source": [
    "graph = Graph.from_json(\"./data/pa/PA_VTDs.json\")"
   ]
  },
  {
   "cell_type": "code",
   "execution_count": 18,
   "metadata": {},
   "outputs": [
    {
     "data": {
      "text/plain": [
       "{'boundary_node': True,\n",
       " 'boundary_perim': 0.06312599142331599,\n",
       " 'area': 0.004278359631999892,\n",
       " 'STATEFP10': '42',\n",
       " 'COUNTYFP10': '085',\n",
       " 'VTDST10': '960',\n",
       " 'GEOID10': '42085960',\n",
       " 'VTDI10': 'A',\n",
       " 'NAME10': 'SHENANGO TWP VTD WEST',\n",
       " 'NAMELSAD10': 'SHENANGO TWP VTD WEST',\n",
       " 'LSAD10': '00',\n",
       " 'MTFCC10': 'G5240',\n",
       " 'FUNCSTAT10': 'N',\n",
       " 'ALAND10': 39740056,\n",
       " 'AWATER10': 141805,\n",
       " 'INTPTLAT10': '+41.1564874',\n",
       " 'INTPTLON10': '-080.4865792',\n",
       " 'TOTPOP': 1915,\n",
       " 'NH_WHITE': 1839,\n",
       " 'NH_BLACK': 35,\n",
       " 'NH_AMIN': 1,\n",
       " 'NH_ASIAN': 8,\n",
       " 'NH_NHPI': 0,\n",
       " 'NH_OTHER': 3,\n",
       " 'NH_2MORE': 19,\n",
       " 'HISP': 10,\n",
       " 'H_WHITE': 3,\n",
       " 'H_BLACK': 0,\n",
       " 'H_AMIN': 1,\n",
       " 'H_ASIAN': 0,\n",
       " 'H_NHPI': 0,\n",
       " 'H_OTHER': 4,\n",
       " 'H_2MORE': 2,\n",
       " 'VAP': 1553,\n",
       " 'HVAP': 7,\n",
       " 'WVAP': 1494,\n",
       " 'BVAP': 30,\n",
       " 'AMINVAP': 1,\n",
       " 'ASIANVAP': 6,\n",
       " 'NHPIVAP': 0,\n",
       " 'OTHERVAP': 2,\n",
       " '2MOREVAP': 13,\n",
       " 'ATG12D': 514.0001036045286,\n",
       " 'ATG12R': 388.0000782073095,\n",
       " 'F2014GOVD': 290.0000584539169,\n",
       " 'F2014GOVR': 242.00004877878584,\n",
       " 'GOV10D': 289.00005825235166,\n",
       " 'GOV10R': 349.00007034626555,\n",
       " 'PRES12D': 492.0000991700935,\n",
       " 'PRES12O': 11.000002217217538,\n",
       " 'PRES12R': 451.0000909059191,\n",
       " 'SEN10D': 315.00006349304766,\n",
       " 'SEN10R': 328.0000661133957,\n",
       " 'T16ATGD': 416.00008385113597,\n",
       " 'T16ATGR': 558.0001124733988,\n",
       " 'T16PRESD': 342.0000689353089,\n",
       " 'T16PRESOTH': 32.00000645008738,\n",
       " 'T16PRESR': 631.0001271876606,\n",
       " 'T16SEND': 379.00007639322246,\n",
       " 'T16SENR': 590.0001189234862,\n",
       " 'USS12D': 505.00010179044153,\n",
       " 'USS12R': 423.0000852620926,\n",
       " 'REMEDIAL': '16',\n",
       " 'GOV': '3',\n",
       " 'TS': 3,\n",
       " 'CD_2011': 3,\n",
       " 'SEND': 50,\n",
       " 'HDIST': 7,\n",
       " '538DEM': '03',\n",
       " '538GOP': '03',\n",
       " '538CMPCT': '03'}"
      ]
     },
     "execution_count": 18,
     "metadata": {},
     "output_type": "execute_result"
    }
   ],
   "source": [
    "# Get info about the first node of the graph\n",
    "graph.nodes[0]"
   ]
  },
  {
   "attachments": {},
   "cell_type": "markdown",
   "metadata": {},
   "source": [
    "# Setting up the initial partition\n",
    "The initial partition is an object representing the start state of our markov chain, which we set to the 2011 map. We also need to add updaters to the partition, which are functions that update the partition as the markov chain runs with what we're looking for: the total population and number of white people in the district. We also add constraints to ensure compactness and equal population."
   ]
  },
  {
   "cell_type": "code",
   "execution_count": 19,
   "metadata": {},
   "outputs": [],
   "source": [
    "my_updaters = {\"population\": updaters.Tally(\"TOTPOP\", alias=\"population\"), \"whitepop\": updaters.Tally(\"NH_WHITE\", alias=\"whitepop\")}"
   ]
  },
  {
   "cell_type": "code",
   "execution_count": 20,
   "metadata": {},
   "outputs": [],
   "source": [
    "initial_partition = GeographicPartition(graph, assignment=\"CD_2011\", updaters=my_updaters)"
   ]
  },
  {
   "cell_type": "code",
   "execution_count": 21,
   "metadata": {},
   "outputs": [],
   "source": [
    "ideal_population = sum(initial_partition[\"population\"].values()) / len(initial_partition)"
   ]
  },
  {
   "cell_type": "code",
   "execution_count": 22,
   "metadata": {},
   "outputs": [],
   "source": [
    "# We use functools.partial to bind the extra parameters (pop_col, pop_target, epsilon, node_repeats)\n",
    "# of the recom proposal.\n",
    "proposal = partial(recom,\n",
    "                   pop_col=\"TOTPOP\",\n",
    "                   pop_target=ideal_population,\n",
    "                   epsilon=0.02,\n",
    "                   node_repeats=2\n",
    "                  )"
   ]
  },
  {
   "cell_type": "code",
   "execution_count": 23,
   "metadata": {},
   "outputs": [],
   "source": [
    "compactness_bound = constraints.UpperBound(\n",
    "    lambda p: len(p[\"cut_edges\"]),\n",
    "    2*len(initial_partition[\"cut_edges\"])\n",
    ")\n",
    "\n",
    "pop_constraint = constraints.within_percent_of_ideal_population(initial_partition, 0.02)"
   ]
  },
  {
   "attachments": {},
   "cell_type": "markdown",
   "metadata": {},
   "source": [
    "# Markov chain\n",
    "Next, we set up our markov chain. First, we set it up with all the necessary parameters: the constraints, initial state, and total number of steps. Then, we run the markov chain and save the results to variables."
   ]
  },
  {
   "cell_type": "code",
   "execution_count": 24,
   "metadata": {},
   "outputs": [],
   "source": [
    "chain = MarkovChain(\n",
    "    proposal=proposal,\n",
    "    constraints=[\n",
    "        pop_constraint,\n",
    "        compactness_bound\n",
    "    ],\n",
    "    accept=accept.always_accept,\n",
    "    initial_state=initial_partition,\n",
    "    total_steps=10000\n",
    ")"
   ]
  },
  {
   "cell_type": "code",
   "execution_count": 25,
   "metadata": {},
   "outputs": [],
   "source": [
    "compactness = []\n",
    "whiteprop = []"
   ]
  },
  {
   "cell_type": "code",
   "execution_count": 26,
   "metadata": {},
   "outputs": [
    {
     "name": "stderr",
     "output_type": "stream",
     "text": [
      "100%|██████████| 10000/10000 [41:12<00:00,  4.04it/s] \n"
     ]
    }
   ],
   "source": [
    "for partition in chain.with_progress_bar():\n",
    "    compactness.append(sorted(polsby_popper(partition).values()))\n",
    "    whiteprop.append(sorted([whitepop / partition[\"population\"][i] for i, whitepop in partition[\"whitepop\"].items()]))"
   ]
  },
  {
   "attachments": {},
   "cell_type": "markdown",
   "metadata": {},
   "source": [
    "# Analysis\n",
    "Finally, we analyze the data. We look at the boxplots of the target paremeters and compare the 2011 plan's values to the relevant distributions. Each boxplot represents the least white population proportion, second least, and so on, or the least compact to most compact in the case of the compactness graph. In a good, representative map, every value should fall within the 25th and 75th percentile of the naive distribution."
   ]
  },
  {
   "cell_type": "code",
   "execution_count": 27,
   "metadata": {},
   "outputs": [],
   "source": [
    "compactness_df = pandas.DataFrame(compactness)"
   ]
  },
  {
   "cell_type": "code",
   "execution_count": 28,
   "metadata": {},
   "outputs": [
    {
     "data": {
      "text/html": [
       "<div>\n",
       "<style scoped>\n",
       "    .dataframe tbody tr th:only-of-type {\n",
       "        vertical-align: middle;\n",
       "    }\n",
       "\n",
       "    .dataframe tbody tr th {\n",
       "        vertical-align: top;\n",
       "    }\n",
       "\n",
       "    .dataframe thead th {\n",
       "        text-align: right;\n",
       "    }\n",
       "</style>\n",
       "<table border=\"1\" class=\"dataframe\">\n",
       "  <thead>\n",
       "    <tr style=\"text-align: right;\">\n",
       "      <th></th>\n",
       "      <th>0</th>\n",
       "      <th>1</th>\n",
       "      <th>2</th>\n",
       "      <th>3</th>\n",
       "      <th>4</th>\n",
       "      <th>5</th>\n",
       "      <th>6</th>\n",
       "      <th>7</th>\n",
       "      <th>8</th>\n",
       "      <th>9</th>\n",
       "      <th>10</th>\n",
       "      <th>11</th>\n",
       "      <th>12</th>\n",
       "      <th>13</th>\n",
       "      <th>14</th>\n",
       "      <th>15</th>\n",
       "      <th>16</th>\n",
       "      <th>17</th>\n",
       "    </tr>\n",
       "  </thead>\n",
       "  <tbody>\n",
       "    <tr>\n",
       "      <th>0</th>\n",
       "      <td>0.039749</td>\n",
       "      <td>0.074284</td>\n",
       "      <td>0.076012</td>\n",
       "      <td>0.078486</td>\n",
       "      <td>0.078655</td>\n",
       "      <td>0.098114</td>\n",
       "      <td>0.111457</td>\n",
       "      <td>0.119048</td>\n",
       "      <td>0.130381</td>\n",
       "      <td>0.132231</td>\n",
       "      <td>0.134152</td>\n",
       "      <td>0.139674</td>\n",
       "      <td>0.169031</td>\n",
       "      <td>0.221513</td>\n",
       "      <td>0.250086</td>\n",
       "      <td>0.354915</td>\n",
       "      <td>0.364298</td>\n",
       "      <td>0.393607</td>\n",
       "    </tr>\n",
       "    <tr>\n",
       "      <th>1</th>\n",
       "      <td>0.070608</td>\n",
       "      <td>0.074284</td>\n",
       "      <td>0.076012</td>\n",
       "      <td>0.078486</td>\n",
       "      <td>0.098114</td>\n",
       "      <td>0.111457</td>\n",
       "      <td>0.119048</td>\n",
       "      <td>0.130381</td>\n",
       "      <td>0.132231</td>\n",
       "      <td>0.134152</td>\n",
       "      <td>0.139674</td>\n",
       "      <td>0.149198</td>\n",
       "      <td>0.169031</td>\n",
       "      <td>0.221513</td>\n",
       "      <td>0.250086</td>\n",
       "      <td>0.354915</td>\n",
       "      <td>0.364298</td>\n",
       "      <td>0.393607</td>\n",
       "    </tr>\n",
       "    <tr>\n",
       "      <th>2</th>\n",
       "      <td>0.070608</td>\n",
       "      <td>0.074284</td>\n",
       "      <td>0.076012</td>\n",
       "      <td>0.078486</td>\n",
       "      <td>0.098114</td>\n",
       "      <td>0.111457</td>\n",
       "      <td>0.119048</td>\n",
       "      <td>0.130381</td>\n",
       "      <td>0.132231</td>\n",
       "      <td>0.134152</td>\n",
       "      <td>0.139674</td>\n",
       "      <td>0.149198</td>\n",
       "      <td>0.169031</td>\n",
       "      <td>0.229337</td>\n",
       "      <td>0.273366</td>\n",
       "      <td>0.354915</td>\n",
       "      <td>0.364298</td>\n",
       "      <td>0.393607</td>\n",
       "    </tr>\n",
       "    <tr>\n",
       "      <th>3</th>\n",
       "      <td>0.070608</td>\n",
       "      <td>0.074284</td>\n",
       "      <td>0.076012</td>\n",
       "      <td>0.078486</td>\n",
       "      <td>0.111457</td>\n",
       "      <td>0.119048</td>\n",
       "      <td>0.132231</td>\n",
       "      <td>0.134152</td>\n",
       "      <td>0.139674</td>\n",
       "      <td>0.142516</td>\n",
       "      <td>0.149198</td>\n",
       "      <td>0.169031</td>\n",
       "      <td>0.196231</td>\n",
       "      <td>0.229337</td>\n",
       "      <td>0.273366</td>\n",
       "      <td>0.354915</td>\n",
       "      <td>0.364298</td>\n",
       "      <td>0.393607</td>\n",
       "    </tr>\n",
       "    <tr>\n",
       "      <th>4</th>\n",
       "      <td>0.070608</td>\n",
       "      <td>0.074284</td>\n",
       "      <td>0.076012</td>\n",
       "      <td>0.078486</td>\n",
       "      <td>0.111457</td>\n",
       "      <td>0.119048</td>\n",
       "      <td>0.132231</td>\n",
       "      <td>0.134152</td>\n",
       "      <td>0.139674</td>\n",
       "      <td>0.142516</td>\n",
       "      <td>0.149198</td>\n",
       "      <td>0.169031</td>\n",
       "      <td>0.196231</td>\n",
       "      <td>0.254734</td>\n",
       "      <td>0.256170</td>\n",
       "      <td>0.354915</td>\n",
       "      <td>0.364298</td>\n",
       "      <td>0.393607</td>\n",
       "    </tr>\n",
       "  </tbody>\n",
       "</table>\n",
       "</div>"
      ],
      "text/plain": [
       "         0         1         2         3         4         5         6   \\\n",
       "0  0.039749  0.074284  0.076012  0.078486  0.078655  0.098114  0.111457   \n",
       "1  0.070608  0.074284  0.076012  0.078486  0.098114  0.111457  0.119048   \n",
       "2  0.070608  0.074284  0.076012  0.078486  0.098114  0.111457  0.119048   \n",
       "3  0.070608  0.074284  0.076012  0.078486  0.111457  0.119048  0.132231   \n",
       "4  0.070608  0.074284  0.076012  0.078486  0.111457  0.119048  0.132231   \n",
       "\n",
       "         7         8         9         10        11        12        13  \\\n",
       "0  0.119048  0.130381  0.132231  0.134152  0.139674  0.169031  0.221513   \n",
       "1  0.130381  0.132231  0.134152  0.139674  0.149198  0.169031  0.221513   \n",
       "2  0.130381  0.132231  0.134152  0.139674  0.149198  0.169031  0.229337   \n",
       "3  0.134152  0.139674  0.142516  0.149198  0.169031  0.196231  0.229337   \n",
       "4  0.134152  0.139674  0.142516  0.149198  0.169031  0.196231  0.254734   \n",
       "\n",
       "         14        15        16        17  \n",
       "0  0.250086  0.354915  0.364298  0.393607  \n",
       "1  0.250086  0.354915  0.364298  0.393607  \n",
       "2  0.273366  0.354915  0.364298  0.393607  \n",
       "3  0.273366  0.354915  0.364298  0.393607  \n",
       "4  0.256170  0.354915  0.364298  0.393607  "
      ]
     },
     "execution_count": 28,
     "metadata": {},
     "output_type": "execute_result"
    }
   ],
   "source": [
    "compactness_df.head()"
   ]
  },
  {
   "cell_type": "code",
   "execution_count": 29,
   "metadata": {},
   "outputs": [],
   "source": [
    "whiteprop_df = pandas.DataFrame(whiteprop)"
   ]
  },
  {
   "cell_type": "code",
   "execution_count": 30,
   "metadata": {},
   "outputs": [
    {
     "data": {
      "text/html": [
       "<div>\n",
       "<style scoped>\n",
       "    .dataframe tbody tr th:only-of-type {\n",
       "        vertical-align: middle;\n",
       "    }\n",
       "\n",
       "    .dataframe tbody tr th {\n",
       "        vertical-align: top;\n",
       "    }\n",
       "\n",
       "    .dataframe thead th {\n",
       "        text-align: right;\n",
       "    }\n",
       "</style>\n",
       "<table border=\"1\" class=\"dataframe\">\n",
       "  <thead>\n",
       "    <tr style=\"text-align: right;\">\n",
       "      <th></th>\n",
       "      <th>0</th>\n",
       "      <th>1</th>\n",
       "      <th>2</th>\n",
       "      <th>3</th>\n",
       "      <th>4</th>\n",
       "      <th>5</th>\n",
       "      <th>6</th>\n",
       "      <th>7</th>\n",
       "      <th>8</th>\n",
       "      <th>9</th>\n",
       "      <th>10</th>\n",
       "      <th>11</th>\n",
       "      <th>12</th>\n",
       "      <th>13</th>\n",
       "      <th>14</th>\n",
       "      <th>15</th>\n",
       "      <th>16</th>\n",
       "      <th>17</th>\n",
       "    </tr>\n",
       "  </thead>\n",
       "  <tbody>\n",
       "    <tr>\n",
       "      <th>0</th>\n",
       "      <td>0.28576</td>\n",
       "      <td>0.417547</td>\n",
       "      <td>0.622189</td>\n",
       "      <td>0.715684</td>\n",
       "      <td>0.747023</td>\n",
       "      <td>0.792727</td>\n",
       "      <td>0.829054</td>\n",
       "      <td>0.84823</td>\n",
       "      <td>0.858903</td>\n",
       "      <td>0.867371</td>\n",
       "      <td>0.870007</td>\n",
       "      <td>0.881711</td>\n",
       "      <td>0.912313</td>\n",
       "      <td>0.91418</td>\n",
       "      <td>0.930897</td>\n",
       "      <td>0.936399</td>\n",
       "      <td>0.936662</td>\n",
       "      <td>0.937664</td>\n",
       "    </tr>\n",
       "    <tr>\n",
       "      <th>1</th>\n",
       "      <td>0.28576</td>\n",
       "      <td>0.417547</td>\n",
       "      <td>0.622189</td>\n",
       "      <td>0.715684</td>\n",
       "      <td>0.747023</td>\n",
       "      <td>0.792727</td>\n",
       "      <td>0.829054</td>\n",
       "      <td>0.84823</td>\n",
       "      <td>0.854229</td>\n",
       "      <td>0.867371</td>\n",
       "      <td>0.874437</td>\n",
       "      <td>0.881711</td>\n",
       "      <td>0.912313</td>\n",
       "      <td>0.91418</td>\n",
       "      <td>0.930897</td>\n",
       "      <td>0.936399</td>\n",
       "      <td>0.936662</td>\n",
       "      <td>0.937664</td>\n",
       "    </tr>\n",
       "    <tr>\n",
       "      <th>2</th>\n",
       "      <td>0.28576</td>\n",
       "      <td>0.417547</td>\n",
       "      <td>0.622189</td>\n",
       "      <td>0.715684</td>\n",
       "      <td>0.747023</td>\n",
       "      <td>0.792727</td>\n",
       "      <td>0.829054</td>\n",
       "      <td>0.84823</td>\n",
       "      <td>0.854229</td>\n",
       "      <td>0.867371</td>\n",
       "      <td>0.874437</td>\n",
       "      <td>0.881711</td>\n",
       "      <td>0.908391</td>\n",
       "      <td>0.91418</td>\n",
       "      <td>0.930897</td>\n",
       "      <td>0.936399</td>\n",
       "      <td>0.936662</td>\n",
       "      <td>0.941393</td>\n",
       "    </tr>\n",
       "    <tr>\n",
       "      <th>3</th>\n",
       "      <td>0.28576</td>\n",
       "      <td>0.417547</td>\n",
       "      <td>0.622189</td>\n",
       "      <td>0.715684</td>\n",
       "      <td>0.747023</td>\n",
       "      <td>0.792727</td>\n",
       "      <td>0.829054</td>\n",
       "      <td>0.84823</td>\n",
       "      <td>0.854229</td>\n",
       "      <td>0.867371</td>\n",
       "      <td>0.874437</td>\n",
       "      <td>0.881711</td>\n",
       "      <td>0.908391</td>\n",
       "      <td>0.91418</td>\n",
       "      <td>0.930083</td>\n",
       "      <td>0.936662</td>\n",
       "      <td>0.937282</td>\n",
       "      <td>0.941393</td>\n",
       "    </tr>\n",
       "    <tr>\n",
       "      <th>4</th>\n",
       "      <td>0.28576</td>\n",
       "      <td>0.417547</td>\n",
       "      <td>0.622189</td>\n",
       "      <td>0.715684</td>\n",
       "      <td>0.747023</td>\n",
       "      <td>0.792727</td>\n",
       "      <td>0.829054</td>\n",
       "      <td>0.84823</td>\n",
       "      <td>0.854229</td>\n",
       "      <td>0.867371</td>\n",
       "      <td>0.874437</td>\n",
       "      <td>0.881711</td>\n",
       "      <td>0.910075</td>\n",
       "      <td>0.91418</td>\n",
       "      <td>0.930083</td>\n",
       "      <td>0.936662</td>\n",
       "      <td>0.937282</td>\n",
       "      <td>0.940349</td>\n",
       "    </tr>\n",
       "  </tbody>\n",
       "</table>\n",
       "</div>"
      ],
      "text/plain": [
       "        0         1         2         3         4         5         6   \\\n",
       "0  0.28576  0.417547  0.622189  0.715684  0.747023  0.792727  0.829054   \n",
       "1  0.28576  0.417547  0.622189  0.715684  0.747023  0.792727  0.829054   \n",
       "2  0.28576  0.417547  0.622189  0.715684  0.747023  0.792727  0.829054   \n",
       "3  0.28576  0.417547  0.622189  0.715684  0.747023  0.792727  0.829054   \n",
       "4  0.28576  0.417547  0.622189  0.715684  0.747023  0.792727  0.829054   \n",
       "\n",
       "        7         8         9         10        11        12       13  \\\n",
       "0  0.84823  0.858903  0.867371  0.870007  0.881711  0.912313  0.91418   \n",
       "1  0.84823  0.854229  0.867371  0.874437  0.881711  0.912313  0.91418   \n",
       "2  0.84823  0.854229  0.867371  0.874437  0.881711  0.908391  0.91418   \n",
       "3  0.84823  0.854229  0.867371  0.874437  0.881711  0.908391  0.91418   \n",
       "4  0.84823  0.854229  0.867371  0.874437  0.881711  0.910075  0.91418   \n",
       "\n",
       "         14        15        16        17  \n",
       "0  0.930897  0.936399  0.936662  0.937664  \n",
       "1  0.930897  0.936399  0.936662  0.937664  \n",
       "2  0.930897  0.936399  0.936662  0.941393  \n",
       "3  0.930083  0.936662  0.937282  0.941393  \n",
       "4  0.930083  0.936662  0.937282  0.940349  "
      ]
     },
     "execution_count": 30,
     "metadata": {},
     "output_type": "execute_result"
    }
   ],
   "source": [
    "whiteprop_df.head()"
   ]
  },
  {
   "cell_type": "code",
   "execution_count": 31,
   "metadata": {},
   "outputs": [
    {
     "data": {
      "image/png": "[encoded data removed]",
      "text/plain": [
       "<Figure size 800x600 with 1 Axes>"
      ]
     },
     "metadata": {},
     "output_type": "display_data"
    }
   ],
   "source": [
    "fig, ax = plt.subplots(figsize=(8, 6))\n",
    "\n",
    "\n",
    "# Draw boxplot\n",
    "compactness_df.boxplot(ax=ax, positions=range(len(compactness_df.columns)))\n",
    "\n",
    "# Draw initial plan's Democratic vote %s (.iloc[0] gives the first row)\n",
    "plt.plot(compactness_df.iloc[0], \"ro\")\n",
    "\n",
    "# Annotate\n",
    "ax.set_title(\"Comparing the 2011 plan to an ensemble\")\n",
    "ax.set_ylabel(\"Compactness\")\n",
    "ax.set_xlabel(\"Sorted districts\")\n",
    "ax.set_ylim(0, 1)\n",
    "ax.set_yticks([0, 0.25, 0.5, 0.75, 1])\n",
    "\n",
    "plt.savefig(\"images/pa-compactness.png\")"
   ]
  },
  {
   "cell_type": "code",
   "execution_count": 32,
   "metadata": {},
   "outputs": [
    {
     "data": {
      "image/png": "[encoded data removed]",
      "text/plain": [
       "<Figure size 800x600 with 1 Axes>"
      ]
     },
     "metadata": {},
     "output_type": "display_data"
    }
   ],
   "source": [
    "fig, ax = plt.subplots(figsize=(8, 6))\n",
    "\n",
    "\n",
    "# Draw boxplot\n",
    "whiteprop_df.boxplot(ax=ax, positions=range(len(whiteprop_df.columns)))\n",
    "\n",
    "# Draw initial plan's Democratic vote %s (.iloc[0] gives the first row)\n",
    "plt.plot(whiteprop_df.iloc[0], \"ro\")\n",
    "\n",
    "# Annotate\n",
    "ax.set_title(\"Comparing the 2011 plan to an ensemble\")\n",
    "ax.set_ylabel(\"White proportion of population\")\n",
    "ax.set_xlabel(\"Sorted districts\")\n",
    "ax.set_ylim(0, 1)\n",
    "ax.set_yticks([0, 0.25, 0.5, 0.75, 1])\n",
    "\n",
    "plt.savefig(\"images/pa-race.png\")"
   ]
  }
 ],
 "metadata": {
  "kernelspec": {
   "display_name": "gerrychain",
   "language": "python",
   "name": "python3"
  },
  "language_info": {
   "codemirror_mode": {
    "name": "ipython",
    "version": 3
   },
   "file_extension": ".py",
   "mimetype": "text/x-python",
   "name": "python",
   "nbconvert_exporter": "python",
   "pygments_lexer": "ipython3",
   "version": "3.9.16"
  },
  "orig_nbformat": 4,
  "vscode": {
   "interpreter": {
    "hash": "3e8339815f7292d3fad9b18b3c8e0212005b274531e077d506411d9314fe22e2"
   }
  }
 },
 "nbformat": 4,
 "nbformat_minor": 2
}
